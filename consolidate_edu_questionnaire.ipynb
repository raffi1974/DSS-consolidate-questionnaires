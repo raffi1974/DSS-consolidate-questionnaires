{
 "cells": [
  {
   "cell_type": "code",
   "execution_count": 1,
   "id": "bf85b55c",
   "metadata": {},
   "outputs": [],
   "source": [
    "import pandas as pd\n",
    "import numpy as np\n",
    "import json\n",
    "\n",
    "\n",
    "pd.set_option('display.max_columns', None)  # Show all columns\n",
    "pd.set_option('display.max_rows', None)     # Show all rows\n",
    "pd.set_option('display.max_colwidth', None) # Do not truncate column content\n",
    "pd.set_option('display.width', 1000)        # Prevent wrapping of wide DataFrames"
   ]
  },
  {
   "cell_type": "markdown",
   "id": "1da28a59",
   "metadata": {},
   "source": [
    "### for english questionnaire"
   ]
  },
  {
   "cell_type": "code",
   "execution_count": 2,
   "id": "b289fb28",
   "metadata": {},
   "outputs": [
    {
     "name": "stdout",
     "output_type": "stream",
     "text": [
      "dict_keys(['Education_1_a', 'Education_1_b', 'Education_2_a', 'Education_2_b', 'Education_2_c', 'Education_3', 'Education_4', 'Education_5', 'Education_6'])\n"
     ]
    }
   ],
   "source": [
    "f_path = 'C:/Users/511232/Desktop/DSS/Consolidated questionnaires'\n",
    "file='Somalia_Education_en.xlsx'\n",
    "\n",
    "sheets_dict = pd.read_excel(f_path+'/'+file, sheet_name=None)  # Reads all sheets at once\n",
    "print(sheets_dict.keys())"
   ]
  },
  {
   "cell_type": "code",
   "execution_count": 3,
   "id": "d8622275",
   "metadata": {},
   "outputs": [
    {
     "name": "stdout",
     "output_type": "stream",
     "text": [
      "processing sheet Education_1_a\n",
      "years columns: [2010, 2011, 2012, 2013, 2014, 2015, 2016, 2017, 2018, 2019, 2020, 2021, 2022, 2023, 2024]\n",
      "finished processing\n",
      "                                           Indicator  Country        Nationality         Sex  Year Value Source\n",
      "0  Net enrolment rate in primary education (percent)  Somalia  Nationality Total        Male  2010     1      a\n",
      "1  Net enrolment rate in primary education (percent)  Somalia  Nationality Total      Female  2010   NaN      a\n",
      "2  Net enrolment rate in primary education (percent)  Somalia  Nationality Total  Both sexes  2010   NaN      a \n",
      "\n",
      "processing sheet Education_1_b\n",
      "years columns: [2010, 2011, 2012, 2013, 2014, 2015, 2016, 2017, 2018, 2019, 2020, 2021, 2022, 2023, 2024]\n",
      "finished processing\n",
      "                                             Indicator  Country        Nationality         Sex  Year Value Source\n",
      "0  Net enrolment rate in secondary education (percent)  Somalia  Nationality Total        Male  2010     1      a\n",
      "1  Net enrolment rate in secondary education (percent)  Somalia  Nationality Total      Female  2010   NaN      a\n",
      "2  Net enrolment rate in secondary education (percent)  Somalia  Nationality Total  Both sexes  2010   NaN      a \n",
      "\n",
      "processing sheet Education_2_a\n",
      "years columns: [2010, 2011, 2012, 2013, 2014, 2015, 2016, 2017, 2018, 2019, 2020, 2021, 2022, 2023, 2024]\n",
      "finished processing\n",
      "                       Indicator  Country  Sector Education level        Nationality         Sex  Year Value Source\n",
      "0  Pupil-teacher ratio (percent)  Somalia  Public         Primary  Nationality Total        Male  2010     1      a\n",
      "1  Pupil-teacher ratio (percent)  Somalia  Public         Primary  Nationality Total      Female  2010   NaN      a\n",
      "2  Pupil-teacher ratio (percent)  Somalia  Public         Primary  Nationality Total  Both sexes  2010   NaN      a \n",
      "\n",
      "processing sheet Education_2_b\n",
      "years columns: [2010, 2011, 2012, 2013, 2014, 2015, 2016, 2017, 2018, 2019, 2020, 2021, 2022, 2023, 2024]\n",
      "finished processing\n",
      "                       Indicator  Country   Sector Education level        Nationality         Sex  Year Value Source\n",
      "0  Pupil-teacher ratio (percent)  Somalia  Private         Primary  Nationality Total        Male  2010     1      a\n",
      "1  Pupil-teacher ratio (percent)  Somalia  Private         Primary  Nationality Total      Female  2010   NaN      a\n",
      "2  Pupil-teacher ratio (percent)  Somalia  Private         Primary  Nationality Total  Both sexes  2010   NaN      a \n",
      "\n",
      "processing sheet Education_2_c\n",
      "years columns: [2010, 2011, 2012, 2013, 2014, 2015, 2016, 2017, 2018, 2019, 2020, 2021, 2022, 2023, 2024]\n",
      "finished processing\n",
      "                       Indicator  Country        Sector Education level        Nationality         Sex  Year Value Source\n",
      "0  Pupil-teacher ratio (percent)  Somalia  Sector Total         Primary  Nationality Total        Male  2010     1      a\n",
      "1  Pupil-teacher ratio (percent)  Somalia  Sector Total         Primary  Nationality Total      Female  2010   NaN      a\n",
      "2  Pupil-teacher ratio (percent)  Somalia  Sector Total         Primary  Nationality Total  Both sexes  2010   NaN      a \n",
      "\n",
      "processing sheet Education_3\n",
      "years columns: [2010, 2011, 2012, 2013, 2014, 2015, 2016, 2017, 2018, 2019, 2020, 2021, 2022, 2023, 2024]\n",
      "finished processing\n",
      "              Indicator  Country        Nationality         Sex  Year Value Source\n",
      "0  Adult literacy rates  Somalia  Nationality Total        Male  2010     1      a\n",
      "1  Adult literacy rates  Somalia  Nationality Total      Female  2010   NaN      a\n",
      "2  Adult literacy rates  Somalia  Nationality Total  Both sexes  2010   NaN      a \n",
      "\n",
      "processing sheet Education_4\n",
      "years columns: [2010, 2011, 2012, 2013, 2014, 2015, 2016, 2017, 2018, 2019, 2020, 2021, 2022, 2023, 2024]\n",
      "finished processing\n",
      "              Indicator  Country        Nationality         Sex  Year Value Source\n",
      "0  Youth literacy rates  Somalia  Nationality Total        Male  2010     1      a\n",
      "1  Youth literacy rates  Somalia  Nationality Total      Female  2010   NaN      a\n",
      "2  Youth literacy rates  Somalia  Nationality Total  Both sexes  2010   NaN      a \n",
      "\n",
      "processing sheet Education_5\n",
      "years columns: [2010, 2011, 2012, 2013, 2014, 2015, 2016, 2017, 2018, 2019, 2020, 2021, 2022, 2023, 2024]\n",
      "finished processing\n",
      "                                                                             Indicator  Country  Year Value Source\n",
      "0  Expenditure on education as a percentage of total government expenditure  (percent)  Somalia  2010     1      a\n",
      "1  Expenditure on education as a percentage of total government expenditure  (percent)  Somalia  2011     2      b\n",
      "2  Expenditure on education as a percentage of total government expenditure  (percent)  Somalia  2012     3      c \n",
      "\n",
      "processing sheet Education_6\n",
      "years columns: [2010, 2011, 2012, 2013, 2014, 2015, 2016, 2017, 2018, 2019, 2020, 2021, 2022, 2023, 2024]\n",
      "finished processing\n",
      "                                                              Indicator  Country  Year Value Source\n",
      "0  Government expenditure on education as a percentage of GDP (percent)  Somalia  2010     1      a\n",
      "1  Government expenditure on education as a percentage of GDP (percent)  Somalia  2011     2      b\n",
      "2  Government expenditure on education as a percentage of GDP (percent)  Somalia  2012     3      c \n",
      "\n"
     ]
    }
   ],
   "source": [
    "'''loop through the sheets, isolate the row where theres source, remove it from the dataframe, reshape the dataframe\n",
    "repeat the source row equivalent to the non-reshaped dataframe size, append to the df_list and finally concatenate into a single file'''\n",
    "\n",
    "df_list=[]\n",
    "\n",
    "for key, df in sheets_dict.items():\n",
    "    \n",
    "    print(f'processing sheet {key}')\n",
    "    #read in the dataframe\n",
    "    df=sheets_dict[key]\n",
    "\n",
    "    #clean it from the null rows\n",
    "    df1 = df.dropna(how='all')\n",
    "\n",
    "    #isolate the row that contains source\n",
    "    source_row = df1[df1.apply(lambda row: row.astype(str).str.contains('source', case=False)).any(axis=1)]\n",
    "\n",
    "    #remove it from main DataFrame\n",
    "    df_cleaned = df1.drop(source_row.index)\n",
    "\n",
    "    #get the years column\n",
    "    year_cols = [c for c in df_cleaned.columns if str(c).isdigit()]\n",
    "    # year_cols = [c for c in df_cleaned.columns if isinstance(c, int)]\n",
    "    print(f'years columns: {year_cols}')\n",
    "\n",
    "    #reshape into long\n",
    "    df_long = df_cleaned.melt(\n",
    "        id_vars=[c for c in df_cleaned.columns if c not in year_cols],\n",
    "        value_vars=year_cols,\n",
    "        var_name='Year',\n",
    "        value_name='Value'\n",
    "    )\n",
    "\n",
    "    #repeat years and source as much as the dataframe rows\n",
    "    year_repeated = []\n",
    "    source_repeated = []\n",
    "\n",
    "    for year in year_cols:\n",
    "        year_str = str(year)\n",
    "        year_repeated.extend([year_str] * df_cleaned.shape[0])\n",
    "        source_repeated.extend([source_row.iloc[0][year]] * df_cleaned.shape[0])\n",
    "\n",
    "    # Create a new DataFrame with these repeated values\n",
    "    source_column_df = pd.DataFrame({\n",
    "        'Year_source': year_repeated,\n",
    "        'Source': source_repeated\n",
    "    })\n",
    "\n",
    "    # Concatenate with df_long\n",
    "    df_final = pd.concat([df_long.reset_index(drop=True), source_column_df], axis=1)\n",
    "    df_final = df_final.drop('Year_source', axis=1)\n",
    "    print('finished processing')\n",
    "    print(df_final.head(3), '\\n')\n",
    "\n",
    "    #append to df_list\n",
    "    df_list.append(df_final)\n",
    "\n",
    "    consolidated_data=pd.concat(df_list, ignore_index=True)\n",
    "    # consolidated_data=consolidated_data.dropna(subset=['Value'])\n",
    "    \n",
    "    consolidated_data.to_excel('consolidated_data_en.xlsx', index=False)\n"
   ]
  },
  {
   "cell_type": "markdown",
   "id": "89b507d9",
   "metadata": {},
   "source": [
    "### for arabic questionnaire"
   ]
  },
  {
   "cell_type": "code",
   "execution_count": 4,
   "id": "8ace4427",
   "metadata": {},
   "outputs": [
    {
     "name": "stdout",
     "output_type": "stream",
     "text": [
      "dict_keys(['Education_1_a', 'Education_1_b', 'Education_2_a', 'Education_2_b', 'Education_2_c', 'Education_3', 'Education_4', 'Education_5', 'Education_6'])\n"
     ]
    }
   ],
   "source": [
    "f_path = 'C:/Users/511232/Desktop/DSS/Consolidated questionnaires'\n",
    "file='Somalia_Education_ar.xlsx'\n",
    "\n",
    "sheets_dict = pd.read_excel(f_path+'/'+file, sheet_name=None)  # Reads all sheets at once\n",
    "print(sheets_dict.keys())"
   ]
  },
  {
   "cell_type": "code",
   "execution_count": 5,
   "id": "f5ceb3ae",
   "metadata": {},
   "outputs": [
    {
     "name": "stdout",
     "output_type": "stream",
     "text": [
      "processing sheet Education_1_a\n",
      "years columns: [2010, 2011, 2012, 2013, 2014, 2015, 2016, 2017, 2018, 2019, 2020, 2021, 2022, 2023, 2024]\n",
      "finished processing\n",
      "                                                                   المؤشر   الدولة                        المواطنة        الجنس  Year Value Source\n",
      "0  معدل الإلتحاق الصافي في مرحلة التعليم الإبتدائي (الأساسي) (نسبة مئوية)  الصومال  مجموع المواطنين وغير المواطنين         ذكور  2010     1      a\n",
      "1  معدل الإلتحاق الصافي في مرحلة التعليم الإبتدائي (الأساسي) (نسبة مئوية)  الصومال  مجموع المواطنين وغير المواطنين         إناث  2010     1      a\n",
      "2  معدل الإلتحاق الصافي في مرحلة التعليم الإبتدائي (الأساسي) (نسبة مئوية)  الصومال  مجموع المواطنين وغير المواطنين  كلا الجنسين  2010     1      a \n",
      "\n",
      "processing sheet Education_1_b\n",
      "years columns: [2010, 2011, 2012, 2013, 2014, 2015, 2016, 2017, 2018, 2019, 2020, 2021, 2022, 2023, 2024]\n",
      "finished processing\n",
      "                                                       المؤشر   الدولة                        المواطنة        الجنس  Year Value Source\n",
      "0  معدل الإلتحاق الصافي في مرحلة التعليم الثانوي (نسبة مئوية)  الصومال  مجموع المواطنين وغير المواطنين         ذكور  2010     2      b\n",
      "1  معدل الإلتحاق الصافي في مرحلة التعليم الثانوي (نسبة مئوية)  الصومال  مجموع المواطنين وغير المواطنين         إناث  2010     2      b\n",
      "2  معدل الإلتحاق الصافي في مرحلة التعليم الثانوي (نسبة مئوية)  الصومال  مجموع المواطنين وغير المواطنين  كلا الجنسين  2010     2      b \n",
      "\n",
      "processing sheet Education_2_a\n",
      "years columns: [2010, 2011, 2012, 2013, 2014, 2015, 2016, 2017, 2018, 2019, 2020, 2021, 2022, 2023, 2024]\n",
      "finished processing\n",
      "                                      المؤشر   الدولة القطاع المرحلة التعليمية        الجنس  Year Value Source\n",
      "0  معدل الطلاب إلى المدرسين (ات)(نسبة مئوية)  الصومال    عام           إبتدائي         ذكور  2010     3      c\n",
      "1  معدل الطلاب إلى المدرسين (ات)(نسبة مئوية)  الصومال    عام           إبتدائي         إناث  2010     3      c\n",
      "2  معدل الطلاب إلى المدرسين (ات)(نسبة مئوية)  الصومال    عام           إبتدائي  كلا الجنسين  2010     3      c \n",
      "\n",
      "processing sheet Education_2_b\n",
      "years columns: [2010, 2011, 2012, 2013, 2014, 2015, 2016, 2017, 2018, 2019, 2020, 2021, 2022, 2023, 2024]\n",
      "finished processing\n",
      "                                      المؤشر   الدولة القطاع المرحلة التعليمية        الجنس  Year Value Source\n",
      "0  معدل الطلاب إلى المدرسين (ات)(نسبة مئوية)  الصومال    خاص           إبتدائي         ذكور  2010     4      d\n",
      "1  معدل الطلاب إلى المدرسين (ات)(نسبة مئوية)  الصومال    خاص           إبتدائي         إناث  2010     4      d\n",
      "2  معدل الطلاب إلى المدرسين (ات)(نسبة مئوية)  الصومال    خاص           إبتدائي  كلا الجنسين  2010     4      d \n",
      "\n",
      "processing sheet Education_2_c\n",
      "years columns: [2010, 2011, 2012, 2013, 2014, 2015, 2016, 2017, 2018, 2019, 2020, 2021, 2022, 2023, 2024]\n",
      "finished processing\n",
      "                                      المؤشر   الدولة         القطاع المرحلة التعليمية                        المواطنة        الجنس  Year Value Source\n",
      "0  معدل الطلاب إلى المدرسين (ات)(نسبة مئوية)  الصومال  جميع القطاعات           إبتدائي  مجموع المواطنين وغير المواطنين         ذكور  2010     5     aa\n",
      "1  معدل الطلاب إلى المدرسين (ات)(نسبة مئوية)  الصومال  جميع القطاعات           إبتدائي  مجموع المواطنين وغير المواطنين         إناث  2010     5     aa\n",
      "2  معدل الطلاب إلى المدرسين (ات)(نسبة مئوية)  الصومال  جميع القطاعات           إبتدائي  مجموع المواطنين وغير المواطنين  كلا الجنسين  2010     5     aa \n",
      "\n",
      "processing sheet Education_3\n",
      "years columns: [2010, 2011, 2012, 2013, 2014, 2015, 2016, 2017, 2018, 2019, 2020, 2021, 2022, 2023, 2024]\n",
      "finished processing\n",
      "                                                                  المؤشر   الدولة                        المواطنة        الجنس  Year Value Source\n",
      "0  معدل معرفة القراءة والكتابة للفئة العمرية 15 سنة وما فوق (نسبة مئوية)  الصومال  مجموع المواطنين وغير المواطنين         ذكور  2010     6     bb\n",
      "1  معدل معرفة القراءة والكتابة للفئة العمرية 15 سنة وما فوق (نسبة مئوية)  الصومال  مجموع المواطنين وغير المواطنين         إناث  2010     6     bb\n",
      "2  معدل معرفة القراءة والكتابة للفئة العمرية 15 سنة وما فوق (نسبة مئوية)  الصومال  مجموع المواطنين وغير المواطنين  كلا الجنسين  2010     6     bb \n",
      "\n",
      "processing sheet Education_4\n",
      "years columns: [2010, 2011, 2012, 2013, 2014, 2015, 2016, 2017, 2018, 2019, 2020, 2021, 2022, 2023, 2024]\n",
      "finished processing\n",
      "                                                             المؤشر   الدولة                        المواطنة        الجنس  Year Value Source\n",
      "0  معدل معرفة القراءة والكتابة للفئة العمرية 15-24 سنة (نسبة مئوية)  الصومال  مجموع المواطنين وغير المواطنين         ذكور  2010     7      f\n",
      "1  معدل معرفة القراءة والكتابة للفئة العمرية 15-24 سنة (نسبة مئوية)  الصومال  مجموع المواطنين وغير المواطنين         إناث  2010     7      f\n",
      "2  معدل معرفة القراءة والكتابة للفئة العمرية 15-24 سنة (نسبة مئوية)  الصومال  مجموع المواطنين وغير المواطنين  كلا الجنسين  2010     7      f \n",
      "\n",
      "processing sheet Education_5\n",
      "years columns: [2010, 2011, 2012, 2013, 2014, 2015, 2016, 2017, 2018, 2019, 2020, 2021, 2022, 2023, 2024]\n",
      "finished processing\n",
      "                                                                            المؤشر   الدولة  Year Value Source\n",
      "0  الإنفاق العام على التعليم (كنسبة مئوية من إجمالي الإنفاق الحكومي)  (نسبة مئوية)  الصومال  2010    66      t\n",
      "1  الإنفاق العام على التعليم (كنسبة مئوية من إجمالي الإنفاق الحكومي)  (نسبة مئوية)  الصومال  2011   NaN    NaN\n",
      "2  الإنفاق العام على التعليم (كنسبة مئوية من إجمالي الإنفاق الحكومي)  (نسبة مئوية)  الصومال  2012   NaN    NaN \n",
      "\n",
      "processing sheet Education_6\n",
      "years columns: [2010, 2011, 2012, 2013, 2014, 2015, 2016, 2017, 2018, 2019, 2020, 2021, 2022, 2023, 2024]\n",
      "finished processing\n",
      "                                                                           المؤشر   الدولة  Year Value Source\n",
      "0  الإنفاق العام على التعليم (كنسبة مئوية من الناتج المحلي الإجمالي) (نسبة مئوية)  الصومال  2010    44      y\n",
      "1  الإنفاق العام على التعليم (كنسبة مئوية من الناتج المحلي الإجمالي) (نسبة مئوية)  الصومال  2011   NaN    NaN\n",
      "2  الإنفاق العام على التعليم (كنسبة مئوية من الناتج المحلي الإجمالي) (نسبة مئوية)  الصومال  2012   NaN    NaN \n",
      "\n"
     ]
    }
   ],
   "source": [
    "'''loop through the sheets, isolate the row where theres source, remove it from the dataframe, reshape the dataframe\n",
    "repeat the source row equivalent to the non-reshaped dataframe size, append to the df_list and finally concatenate into a single file'''\n",
    "\n",
    "df_list=[]\n",
    "\n",
    "for key, df in sheets_dict.items():\n",
    "    \n",
    "    print(f'processing sheet {key}')\n",
    "    #read in the dataframe\n",
    "    df=sheets_dict[key]\n",
    "\n",
    "    #clean it from the null rows\n",
    "    df1 = df.dropna(how='all')\n",
    "\n",
    "    #isolate the row that contains source\n",
    "    source_row = df1[df1.apply(lambda row: row.astype(str).str.contains('المصدر', case=False)).any(axis=1)]\n",
    "\n",
    "    #remove it from main DataFrame\n",
    "    df_cleaned = df1.drop(source_row.index)\n",
    "\n",
    "    #get the years column\n",
    "    year_cols = [c for c in df_cleaned.columns if str(c).isdigit()]\n",
    "    # year_cols = [c for c in df_cleaned.columns if isinstance(c, int)]\n",
    "    print(f'years columns: {year_cols}')\n",
    "\n",
    "    #reshape into long\n",
    "    df_long = df_cleaned.melt(\n",
    "        id_vars=[c for c in df_cleaned.columns if c not in year_cols],\n",
    "        value_vars=year_cols,\n",
    "        var_name='Year',\n",
    "        value_name='Value'\n",
    "    )\n",
    "\n",
    "    #repeat years and source as much as the dataframe rows\n",
    "    year_repeated = []\n",
    "    source_repeated = []\n",
    "\n",
    "    for year in year_cols:\n",
    "        year_str = str(year)\n",
    "        year_repeated.extend([year_str] * df_cleaned.shape[0])\n",
    "        source_repeated.extend([source_row.iloc[0][year]] * df_cleaned.shape[0])\n",
    "\n",
    "    # Create a new DataFrame with these repeated values\n",
    "    source_column_df = pd.DataFrame({\n",
    "        'Year_source': year_repeated,\n",
    "        'Source': source_repeated\n",
    "    })\n",
    "\n",
    "    # Concatenate with df_long\n",
    "    df_final = pd.concat([df_long.reset_index(drop=True), source_column_df], axis=1)\n",
    "    df_final = df_final.drop('Year_source', axis=1)\n",
    "    print('finished processing')\n",
    "    print(df_final.head(3), '\\n')\n",
    "\n",
    "    #append to df_list\n",
    "    df_list.append(df_final)\n",
    "\n",
    "    consolidated_data=pd.concat(df_list, ignore_index=True)\n",
    "    # consolidated_data=consolidated_data.dropna(subset=['Value'])\n",
    "    \n",
    "    consolidated_data.to_excel('consolidated_data_ar.xlsx', index=False)\n"
   ]
  },
  {
   "cell_type": "markdown",
   "id": "58f5463b",
   "metadata": {},
   "source": [
    "### create a dictionary for translation"
   ]
  },
  {
   "cell_type": "code",
   "execution_count": 20,
   "id": "c39ac684",
   "metadata": {},
   "outputs": [],
   "source": [
    "df_en=pd.read_excel('C:/Users/511232/Desktop/DSS/Consolidated questionnaires/codes/consolidated_data_en.xlsx')\n",
    "df_ar=pd.read_excel('C:/Users/511232/Desktop/DSS/Consolidated questionnaires/codes/consolidated_data_ar.xlsx')\n",
    "df_ar_translated=df_ar.copy()"
   ]
  },
  {
   "cell_type": "code",
   "execution_count": 21,
   "id": "da95ec29",
   "metadata": {},
   "outputs": [],
   "source": [
    "#for column names dictionary\n",
    "column_dict=dict(zip(df_ar_translated.columns, df_en.columns))\n",
    "\n",
    "#save to JSON, ensure_ascii=False keeps non-ASCII characters (like Arabic) in their original form instead of escaping them as \\u0627\n",
    "with open('columns_dict_ar_to_en.json', 'w', encoding='utf-8') as f:\n",
    "    json.dump(column_dict, f, ensure_ascii=False, indent=2)\n",
    "\n",
    "\n",
    "##for values dictionary: get the columns list to loop over\n",
    "cols_to_exclude=['Year','Value','Source']\n",
    "cols_list=[(c_ar,c_en)\n",
    "           for c_ar, c_en in zip(df_ar_translated.columns,df_en.columns)\n",
    "           if c_en not in cols_to_exclude\n",
    "           ]\n",
    "\n",
    "values_dict={}\n",
    "#populate the dictionary with keys as column names in arabic and values as their unique values in arabic and english\n",
    "for c in cols_list:\n",
    "    ind_ar=c[0]\n",
    "    ind_en=c[1]\n",
    "\n",
    "    values_dict[ind_ar]=dict(zip(df_ar_translated[ind_ar].unique(),df_en[ind_en].unique()))\n",
    "\n",
    "#save to JSON, ensure_ascii=False keeps non-ASCII characters (like Arabic) in their original form instead of escaping them as \\u0627\n",
    "with open('values_dict_ar_to_en.json', 'w', encoding='utf-8') as f:\n",
    "    json.dump(values_dict, f, ensure_ascii=False, indent=2)"
   ]
  },
  {
   "cell_type": "markdown",
   "id": "f28afa56",
   "metadata": {},
   "source": [
    "### translate arabic to english"
   ]
  },
  {
   "cell_type": "code",
   "execution_count": 22,
   "id": "315617b5",
   "metadata": {},
   "outputs": [],
   "source": [
    "#translate the values from arabic to english\n",
    "for col in values_dict:\n",
    "    if col in df_ar.columns:\n",
    "        df_ar_translated[col] = df_ar_translated[col].map(values_dict[col])\n",
    "\n",
    "#rename columns to english\n",
    "df_ar_translated = df_ar_translated.rename(columns=column_dict)"
   ]
  },
  {
   "cell_type": "code",
   "execution_count": 24,
   "id": "034752f6",
   "metadata": {},
   "outputs": [
    {
     "data": {
      "text/html": [
       "<div>\n",
       "<style scoped>\n",
       "    .dataframe tbody tr th:only-of-type {\n",
       "        vertical-align: middle;\n",
       "    }\n",
       "\n",
       "    .dataframe tbody tr th {\n",
       "        vertical-align: top;\n",
       "    }\n",
       "\n",
       "    .dataframe thead th {\n",
       "        text-align: right;\n",
       "    }\n",
       "</style>\n",
       "<table border=\"1\" class=\"dataframe\">\n",
       "  <thead>\n",
       "    <tr style=\"text-align: right;\">\n",
       "      <th></th>\n",
       "      <th>Indicator</th>\n",
       "      <th>Country</th>\n",
       "      <th>Nationality</th>\n",
       "      <th>Sex</th>\n",
       "      <th>Year</th>\n",
       "      <th>Value</th>\n",
       "      <th>Source</th>\n",
       "      <th>Sector</th>\n",
       "      <th>Education level</th>\n",
       "    </tr>\n",
       "  </thead>\n",
       "  <tbody>\n",
       "    <tr>\n",
       "      <th>0</th>\n",
       "      <td>Net enrolment rate in primary education (percent)</td>\n",
       "      <td>Somalia</td>\n",
       "      <td>Nationality Total</td>\n",
       "      <td>Male</td>\n",
       "      <td>2010</td>\n",
       "      <td>1.0</td>\n",
       "      <td>a</td>\n",
       "      <td>NaN</td>\n",
       "      <td>NaN</td>\n",
       "    </tr>\n",
       "    <tr>\n",
       "      <th>1</th>\n",
       "      <td>Net enrolment rate in primary education (percent)</td>\n",
       "      <td>Somalia</td>\n",
       "      <td>Nationality Total</td>\n",
       "      <td>Female</td>\n",
       "      <td>2010</td>\n",
       "      <td>1.0</td>\n",
       "      <td>a</td>\n",
       "      <td>NaN</td>\n",
       "      <td>NaN</td>\n",
       "    </tr>\n",
       "  </tbody>\n",
       "</table>\n",
       "</div>"
      ],
      "text/plain": [
       "                                           Indicator  Country        Nationality     Sex  Year  Value Source Sector Education level\n",
       "0  Net enrolment rate in primary education (percent)  Somalia  Nationality Total    Male  2010    1.0      a    NaN             NaN\n",
       "1  Net enrolment rate in primary education (percent)  Somalia  Nationality Total  Female  2010    1.0      a    NaN             NaN"
      ]
     },
     "execution_count": 24,
     "metadata": {},
     "output_type": "execute_result"
    }
   ],
   "source": [
    "df_ar_translated.head(2)"
   ]
  },
  {
   "cell_type": "code",
   "execution_count": 25,
   "id": "61d412a9",
   "metadata": {},
   "outputs": [
    {
     "data": {
      "text/plain": [
       "Index(['المؤشر', 'الدولة', 'المواطنة', 'الجنس', 'Year', 'Value', 'Source', 'القطاع', 'المرحلة التعليمية'], dtype='object')"
      ]
     },
     "execution_count": 25,
     "metadata": {},
     "output_type": "execute_result"
    }
   ],
   "source": [
    "df_ar.columns"
   ]
  },
  {
   "cell_type": "markdown",
   "id": "c7006b22",
   "metadata": {},
   "source": [
    "#### check schema with pandera and rapidfuzz to match with possible different column names"
   ]
  },
  {
   "cell_type": "code",
   "execution_count": 91,
   "id": "bd3b9413",
   "metadata": {},
   "outputs": [],
   "source": [
    "import pandas as pd\n",
    "from rapidfuzz import process\n",
    "import pandera as pa\n",
    "from pandera import Column, DataFrameSchema, Check\n",
    "from pandera.errors import SchemaError\n",
    "from textwrap import fill"
   ]
  },
  {
   "cell_type": "code",
   "execution_count": 92,
   "id": "3643a161",
   "metadata": {},
   "outputs": [],
   "source": [
    "STANDARD_SCHEMA = {\n",
    "'Indicator': ['indicator','Ind','مؤشر','المؤشر'],\n",
    "'Country': ['الدولة','البلد','country'],\n",
    "'Nationality': ['المواطنة','المواطنية','nationality','nationalities'],\n",
    "'Sex': ['sex','gender','الجنس'],\n",
    "'Year': ['year','time','Time','سنة','السنة'],\n",
    "'Value': ['value','number','Number','الرقم','عدد', 'العدد'],\n",
    "'Comments': ['comments','notes','ملاحظة','المصدر','Source'],\n",
    "'Sector': ['sector','القطاع'],\n",
    "'Education level': ['edu level','Education_level','المرحلة التعليمية','التعليم']\n",
    "}\n"
   ]
  },
  {
   "cell_type": "code",
   "execution_count": 93,
   "id": "ae3f7714",
   "metadata": {},
   "outputs": [
    {
     "name": "stdout",
     "output_type": "stream",
     "text": [
      "Indicator has a score of 100.0 for column Indicator\n",
      "Country has a score of 100.0 for column Country\n",
      "Nationality has a score of 100.0 for column Nationality\n",
      "Sex has a score of 100.0 for column Sex\n",
      "Year has a score of 100.0 for column Year\n",
      "Value has a score of 100.0 for column Value\n",
      "comments has a score of 87.5 for column Comments\n",
      "Sector has a score of 100.0 for column Sector\n",
      "Education level has a score of 100.0 for column Education level\n"
     ]
    },
    {
     "data": {
      "text/plain": [
       "Index(['Indicator', 'Country', 'Nationality', 'Sex', 'Year', 'Value', 'Source', 'Sector', 'Education level'], dtype='object')"
      ]
     },
     "execution_count": 93,
     "metadata": {},
     "output_type": "execute_result"
    }
   ],
   "source": [
    "#map columns to col names using fuzzy match\n",
    "col_names = {}\n",
    "for col, aliases in STANDARD_SCHEMA.items():\n",
    "\n",
    "    match, score, _ = process.extractOne(col, df_ar_translated.columns.tolist() + aliases)\n",
    "    \n",
    "    if score > 80:\n",
    "        print(f'{match} has a score of {score} for column {col}')\n",
    "        col_names[match] = col\n",
    "\n",
    "#rename column names according to schema\n",
    "df_ar_translated=df_ar_translated.rename(col_names)\n",
    "\n",
    "df_ar_translated.columns"
   ]
  },
  {
   "cell_type": "markdown",
   "id": "879f72a5",
   "metadata": {},
   "source": [
    "#### validate the dataframe column labels"
   ]
  },
  {
   "cell_type": "code",
   "execution_count": 94,
   "id": "4c654c32",
   "metadata": {},
   "outputs": [
    {
     "data": {
      "text/plain": [
       "Indicator           object\n",
       "Country             object\n",
       "Nationality         object\n",
       "Sex                 object\n",
       "Year                 int64\n",
       "Value              float64\n",
       "Source              object\n",
       "Sector              object\n",
       "Education level     object\n",
       "dtype: object"
      ]
     },
     "execution_count": 94,
     "metadata": {},
     "output_type": "execute_result"
    }
   ],
   "source": [
    "df_ar_translated.dtypes"
   ]
  },
  {
   "cell_type": "code",
   "execution_count": 99,
   "id": "27aa990b",
   "metadata": {},
   "outputs": [
    {
     "name": "stdout",
     "output_type": "stream",
     "text": [
      "(\"Column 'Indicator' failed element-wise validator number 0: isin(['Net enrolment rate in primary education (percent)', 'Net enrolment rate in\n",
      "secondary education (percent)', 'Pupil-teacher ratio (percent)', 'Adult literacy rates', 'Youth literacy rates', 'Expenditure on education as a\n",
      "percentage of total government expenditure  (percent)', 'Government expenditure on education as a percentage of GDP (percent)']) failure cases: wrong\n",
      "ind\",)\n"
     ]
    }
   ],
   "source": [
    "allowed_indicator_values=['Net enrolment rate in primary education (percent)',\n",
    "                          'Net enrolment rate in secondary education (percent)',\n",
    "                          'Pupil-teacher ratio (percent)','Adult literacy rates',\n",
    "                          'Youth literacy rates',\n",
    "                          'Expenditure on education as a percentage of total government expenditure  (percent)',\n",
    "                          'Government expenditure on education as a percentage of GDP (percent)']\n",
    "\n",
    "allowed_country_values=['Somalia']\n",
    "allowed_nationality_values=['Nationality Total','Nationals','Non-nationals']\n",
    "allowed_sex_values=['Male','Female','Both sexes','Not applicable']\n",
    "allowed_year_values=[2010,2011,2012,2013,2014,2015,2016,2017,2018,2019,2020,2021,2022,2023,2024]\n",
    "allowed_sector_values=['Public','Private','Sector Total','Not applicable']\n",
    "allowed_edulevel_values=['Primary','Preparatory','Secondary','Tertiary','All levels','Not applicable']\n",
    "\n",
    "#define schema\n",
    "schema = DataFrameSchema({\n",
    "    'Indicator': Column(str, checks=Check.isin(allowed_indicator_values)),\n",
    "    'Country': Column(str, checks=Check.isin(allowed_country_values)),\n",
    "    'Nationality': Column(str, checks=Check.isin(allowed_nationality_values),nullable=True),\n",
    "    'Sex': Column(str, checks=Check.isin(allowed_sex_values),nullable=True),\n",
    "    'Year': Column(int, checks=Check.isin(allowed_year_values)),\n",
    "    'Sector': Column(str, checks=Check.isin(allowed_sector_values),nullable=True),\n",
    "    'Education level': Column(str, checks=Check.isin(allowed_edulevel_values),nullable=True)     \n",
    "})\n",
    "\n",
    "#validate the dataframe\n",
    "try:\n",
    "    validated_df = schema.validate(df_ar_translated)\n",
    "except SchemaError as err:\n",
    "    wrapped_error = fill(str(err.args), width=150)\n",
    "    print(wrapped_error)"
   ]
  },
  {
   "cell_type": "code",
   "execution_count": 96,
   "id": "fc084baf",
   "metadata": {},
   "outputs": [
    {
     "data": {
      "text/html": [
       "<div>\n",
       "<style scoped>\n",
       "    .dataframe tbody tr th:only-of-type {\n",
       "        vertical-align: middle;\n",
       "    }\n",
       "\n",
       "    .dataframe tbody tr th {\n",
       "        vertical-align: top;\n",
       "    }\n",
       "\n",
       "    .dataframe thead th {\n",
       "        text-align: right;\n",
       "    }\n",
       "</style>\n",
       "<table border=\"1\" class=\"dataframe\">\n",
       "  <thead>\n",
       "    <tr style=\"text-align: right;\">\n",
       "      <th></th>\n",
       "      <th>Indicator</th>\n",
       "      <th>Country</th>\n",
       "      <th>Nationality</th>\n",
       "      <th>Sex</th>\n",
       "      <th>Year</th>\n",
       "      <th>Value</th>\n",
       "      <th>Source</th>\n",
       "      <th>Sector</th>\n",
       "      <th>Education level</th>\n",
       "    </tr>\n",
       "  </thead>\n",
       "  <tbody>\n",
       "    <tr>\n",
       "      <th>0</th>\n",
       "      <td>wrong ind</td>\n",
       "      <td>Somalia</td>\n",
       "      <td>Nationality Total</td>\n",
       "      <td>Male</td>\n",
       "      <td>2010</td>\n",
       "      <td>1.0</td>\n",
       "      <td>a</td>\n",
       "      <td>NaN</td>\n",
       "      <td>NaN</td>\n",
       "    </tr>\n",
       "    <tr>\n",
       "      <th>1</th>\n",
       "      <td>Net enrolment rate in primary education (percent)</td>\n",
       "      <td>Somalia</td>\n",
       "      <td>Nationality Total</td>\n",
       "      <td>Female</td>\n",
       "      <td>2010</td>\n",
       "      <td>1.0</td>\n",
       "      <td>a</td>\n",
       "      <td>NaN</td>\n",
       "      <td>NaN</td>\n",
       "    </tr>\n",
       "    <tr>\n",
       "      <th>2</th>\n",
       "      <td>Net enrolment rate in primary education (percent)</td>\n",
       "      <td>Somalia</td>\n",
       "      <td>Nationality Total</td>\n",
       "      <td>Both sexes</td>\n",
       "      <td>2010</td>\n",
       "      <td>1.0</td>\n",
       "      <td>a</td>\n",
       "      <td>NaN</td>\n",
       "      <td>NaN</td>\n",
       "    </tr>\n",
       "    <tr>\n",
       "      <th>3</th>\n",
       "      <td>Net enrolment rate in primary education (percent)</td>\n",
       "      <td>Somalia</td>\n",
       "      <td>Nationals</td>\n",
       "      <td>Male</td>\n",
       "      <td>2010</td>\n",
       "      <td>1.0</td>\n",
       "      <td>a</td>\n",
       "      <td>NaN</td>\n",
       "      <td>NaN</td>\n",
       "    </tr>\n",
       "    <tr>\n",
       "      <th>4</th>\n",
       "      <td>Net enrolment rate in primary education (percent)</td>\n",
       "      <td>Somalia</td>\n",
       "      <td>Nationals</td>\n",
       "      <td>Female</td>\n",
       "      <td>2010</td>\n",
       "      <td>1.0</td>\n",
       "      <td>a</td>\n",
       "      <td>NaN</td>\n",
       "      <td>NaN</td>\n",
       "    </tr>\n",
       "  </tbody>\n",
       "</table>\n",
       "</div>"
      ],
      "text/plain": [
       "                                           Indicator  Country        Nationality         Sex  Year  Value Source Sector Education level\n",
       "0                                          wrong ind  Somalia  Nationality Total        Male  2010    1.0      a    NaN             NaN\n",
       "1  Net enrolment rate in primary education (percent)  Somalia  Nationality Total      Female  2010    1.0      a    NaN             NaN\n",
       "2  Net enrolment rate in primary education (percent)  Somalia  Nationality Total  Both sexes  2010    1.0      a    NaN             NaN\n",
       "3  Net enrolment rate in primary education (percent)  Somalia          Nationals        Male  2010    1.0      a    NaN             NaN\n",
       "4  Net enrolment rate in primary education (percent)  Somalia          Nationals      Female  2010    1.0      a    NaN             NaN"
      ]
     },
     "execution_count": 96,
     "metadata": {},
     "output_type": "execute_result"
    }
   ],
   "source": [
    "df_ar_translated.loc[0,'Indicator']='wrong ind'\n",
    "df_ar_translated.head()"
   ]
  },
  {
   "cell_type": "code",
   "execution_count": null,
   "id": "4d839ea2",
   "metadata": {},
   "outputs": [],
   "source": []
  }
 ],
 "metadata": {
  "kernelspec": {
   "display_name": "Python 3",
   "language": "python",
   "name": "python3"
  },
  "language_info": {
   "codemirror_mode": {
    "name": "ipython",
    "version": 3
   },
   "file_extension": ".py",
   "mimetype": "text/x-python",
   "name": "python",
   "nbconvert_exporter": "python",
   "pygments_lexer": "ipython3",
   "version": "3.13.3"
  }
 },
 "nbformat": 4,
 "nbformat_minor": 5
}
