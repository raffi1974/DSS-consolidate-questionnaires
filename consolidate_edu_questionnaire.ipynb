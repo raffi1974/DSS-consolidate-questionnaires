{
 "cells": [
  {
   "cell_type": "code",
   "execution_count": 3,
   "id": "bf85b55c",
   "metadata": {},
   "outputs": [],
   "source": [
    "import pandas as pd\n",
    "import numpy as np\n",
    "import json\n",
    "\n",
    "\n",
    "pd.set_option('display.max_columns', None)  # Show all columns\n",
    "pd.set_option('display.max_rows', None)     # Show all rows\n",
    "pd.set_option('display.max_colwidth', None) # Do not truncate column content\n",
    "pd.set_option('display.width', 1000)        # Prevent wrapping of wide DataFrames"
   ]
  },
  {
   "cell_type": "markdown",
   "id": "1da28a59",
   "metadata": {},
   "source": [
    "### for english questionnaire"
   ]
  },
  {
   "cell_type": "code",
   "execution_count": 4,
   "id": "b289fb28",
   "metadata": {},
   "outputs": [
    {
     "name": "stdout",
     "output_type": "stream",
     "text": [
      "dict_keys(['Education_1_a', 'Education_1_b', 'Education_2_a', 'Education_2_b', 'Education_2_c', 'Education_3', 'Education_4', 'Education_5', 'Education_6'])\n"
     ]
    }
   ],
   "source": [
    "f_path = 'C:/Users/511232/Desktop/DSS/Consolidated questionnaires'\n",
    "file='Somalia_Education_en.xlsx'\n",
    "\n",
    "sheets_dict = pd.read_excel(f_path+'/'+file, sheet_name=None)  # Reads all sheets at once\n",
    "print(sheets_dict.keys())"
   ]
  },
  {
   "cell_type": "code",
   "execution_count": 11,
   "id": "d8622275",
   "metadata": {},
   "outputs": [
    {
     "name": "stdout",
     "output_type": "stream",
     "text": [
      "processing sheet Education_1_a\n",
      "Source row and column index are: {source_row_index},{source_col_index}\n",
      "years columns are: [2010, 2011, 2012, 2013, 2014, 2015, 2016, 2017, 2018, 2019, 2020, 2021, 2022, 2023, 2024]\n",
      "for column Country: ['Somalia']\n",
      "for column Indicator: ['Net enrolment rate in primary education (percent)']\n",
      "for column Nationality: ['Nationality Total' 'Nationals' 'Non-nationals']\n",
      "for column Sex: ['Male' 'Female' 'Both sexes']\n",
      "for column Year: [2010 2011 2012 2013 2014 2015 2016 2017 2018 2019 2020 2021 2022 2023\n",
      " 2024]\n",
      "--------------------------------------------------------------/n/n\n",
      "processing sheet Education_1_b\n",
      "Source row and column index are: {source_row_index},{source_col_index}\n",
      "years columns are: [2010, 2011, 2012, 2013, 2014, 2015, 2016, 2017, 2018, 2019, 2020, 2021, 2022, 2023, 2024]\n",
      "for column Country: ['Somalia']\n",
      "for column Indicator: ['Net enrolment rate in secondary education (percent)']\n",
      "for column Nationality: ['Nationality Total' 'Nationals' 'Non-nationals']\n",
      "for column Sex: ['Male' 'Female' 'Both sexes']\n",
      "for column Year: [2010 2011 2012 2013 2014 2015 2016 2017 2018 2019 2020 2021 2022 2023\n",
      " 2024]\n",
      "--------------------------------------------------------------/n/n\n",
      "processing sheet Education_2_a\n",
      "Source row and column index are: {source_row_index},{source_col_index}\n",
      "years columns are: [2010, 2011, 2012, 2013, 2014, 2015, 2016, 2017, 2018, 2019, 2020, 2021, 2022, 2023, 2024]\n",
      "for column Indicator: ['Pupil-teacher ratio (percent)']\n",
      "for column Sector: ['Public']\n",
      "for column Country: ['Somalia']\n",
      "for column Nationality: ['Nationality Total' 'Nationals' 'Non-nationals']\n",
      "for column Education level: ['Primary' 'Preparatory' 'Secondary' 'Tertiary' 'All levels']\n",
      "for column Sex: ['Male' 'Female' 'Both sexes']\n",
      "for column Year: [2010 2011 2012 2013 2014 2015 2016 2017 2018 2019 2020 2021 2022 2023\n",
      " 2024]\n",
      "--------------------------------------------------------------/n/n\n",
      "processing sheet Education_2_b\n",
      "Source row and column index are: {source_row_index},{source_col_index}\n",
      "years columns are: [2010, 2011, 2012, 2013, 2014, 2015, 2016, 2017, 2018, 2019, 2020, 2021, 2022, 2023, 2024]\n",
      "for column Indicator: ['Pupil-teacher ratio (percent)']\n",
      "for column Sector: ['Private']\n",
      "for column Country: ['Somalia']\n",
      "for column Nationality: ['Nationality Total' 'Nationals' 'Non-nationals']\n",
      "for column Education level: ['Primary' 'Preparatory' 'Secondary' 'Tertiary' 'All levels']\n",
      "for column Sex: ['Male' 'Female' 'Both sexes']\n",
      "for column Year: [2010 2011 2012 2013 2014 2015 2016 2017 2018 2019 2020 2021 2022 2023\n",
      " 2024]\n",
      "--------------------------------------------------------------/n/n\n",
      "processing sheet Education_2_c\n",
      "Source row and column index are: {source_row_index},{source_col_index}\n",
      "years columns are: [2010, 2011, 2012, 2013, 2014, 2015, 2016, 2017, 2018, 2019, 2020, 2021, 2022, 2023, 2024]\n",
      "for column Indicator: ['Pupil-teacher ratio (percent)']\n",
      "for column Sector: ['Sector Total']\n",
      "for column Country: ['Somalia']\n",
      "for column Nationality: ['Nationality Total' 'Nationals' 'Non-nationals']\n",
      "for column Education level: ['Primary' 'Preparatory' 'Secondary' 'Tertiary' 'All levels']\n",
      "for column Sex: ['Male' 'Female' 'Both sexes']\n",
      "for column Year: [2010 2011 2012 2013 2014 2015 2016 2017 2018 2019 2020 2021 2022 2023\n",
      " 2024]\n",
      "--------------------------------------------------------------/n/n\n",
      "processing sheet Education_3\n",
      "Source row and column index are: {source_row_index},{source_col_index}\n",
      "years columns are: [2010, 2011, 2012, 2013, 2014, 2015, 2016, 2017, 2018, 2019, 2020, 2021, 2022, 2023, 2024]\n",
      "for column Country: ['Somalia']\n",
      "for column Indicator: ['Adult literacy rates']\n",
      "for column Nationality: ['Nationality Total' 'Nationals' 'Non-nationals']\n",
      "for column Sex: ['Male' 'Female' 'Both sexes']\n",
      "for column Year: [2010 2011 2012 2013 2014 2015 2016 2017 2018 2019 2020 2021 2022 2023\n",
      " 2024]\n",
      "--------------------------------------------------------------/n/n\n",
      "processing sheet Education_4\n",
      "Source row and column index are: {source_row_index},{source_col_index}\n",
      "years columns are: [2010, 2011, 2012, 2013, 2014, 2015, 2016, 2017, 2018, 2019, 2020, 2021, 2022, 2023, 2024]\n",
      "for column Country: ['Somalia']\n",
      "for column Indicator: ['Youth literacy rates']\n",
      "for column Nationality: ['Nationality Total' 'Nationals' 'Non-nationals']\n",
      "for column Sex: ['Male' 'Female' 'Both sexes']\n",
      "for column Year: [2010 2011 2012 2013 2014 2015 2016 2017 2018 2019 2020 2021 2022 2023\n",
      " 2024]\n",
      "--------------------------------------------------------------/n/n\n",
      "processing sheet Education_5\n",
      "Source row and column index are: {source_row_index},{source_col_index}\n",
      "years columns are: [2010, 2011, 2012, 2013, 2014, 2015, 2016, 2017, 2018, 2019, 2020, 2021, 2022, 2023, 2024]\n",
      "for column Country: ['Somalia']\n",
      "for column Indicator: ['Expenditure on education as a percentage of total government expenditure  (percent)']\n",
      "for column Year: [2010 2011 2012 2013 2014 2015 2016 2017 2018 2019 2020 2021 2022 2023\n",
      " 2024]\n",
      "--------------------------------------------------------------/n/n\n",
      "processing sheet Education_6\n",
      "Source row and column index are: {source_row_index},{source_col_index}\n",
      "years columns are: [2010, 2011, 2012, 2013, 2014, 2015, 2016, 2017, 2018, 2019, 2020, 2021, 2022, 2023, 2024]\n",
      "for column Country: ['Somalia']\n",
      "for column Indicator: ['Government expenditure on education as a percentage of GDP (percent)']\n",
      "for column Year: [2010 2011 2012 2013 2014 2015 2016 2017 2018 2019 2020 2021 2022 2023\n",
      " 2024]\n",
      "--------------------------------------------------------------/n/n\n"
     ]
    }
   ],
   "source": [
    "'''loop through the sheets, isolate the row where theres source, remove it from the dataframe, reshape the dataframe\n",
    "repeat the source row equivalent to the non-reshaped dataframe size, append to the df_list and finally concatenate into a single file'''\n",
    "\n",
    "df_list=[]\n",
    "\n",
    "for key, df in sheets_dict.items():\n",
    "    \n",
    "    print(f'processing sheet {key}')\n",
    "    #read in the dataframe\n",
    "    df=sheets_dict[key]\n",
    "\n",
    "    #clean it from the null rows\n",
    "    df1 = df.dropna(how='all')\n",
    "\n",
    "    #get the row and column index where source appear\n",
    "    source_row_index=df1[df1.isin(['Source', 'source']).any(axis=1)].index[0]\n",
    "    #column where source appear\n",
    "    source_col=df.columns[df1.isin(['Source', 'source']).any(axis=0)][0]\n",
    "    #get the index of source_col\n",
    "    source_col_index=df1.columns.get_loc(source_col)\n",
    "    print('Source row and column index are: {source_row_index},{source_col_index}')\n",
    "\n",
    "    #separating the dataframe between main dataframe and the source dataframe\n",
    "    main_df=df1.iloc[0:source_row_index-1].reset_index(drop=True)\n",
    "    source_df=df1.iloc[source_row_index-1 :,source_col_index :].reset_index(drop=True)\n",
    "\n",
    "\n",
    "    #action plan: melt main dataframe, transpose the source dataframe and then merge together\n",
    "    #get years columns\n",
    "    year_columns = [col for col in df.columns if str(col).isdigit()]\n",
    "    print(f'years columns are: {year_columns}')\n",
    "\n",
    "    id_variables= list(set(main_df.columns) - set(year_columns))\n",
    "\n",
    "    df_main_long = pd.melt(main_df, \n",
    "                    id_vars=id_variables,     # columns to keep\n",
    "                    value_vars=year_columns,  # columns to unpivot\n",
    "                    var_name='Year', \n",
    "                    value_name='Value',\n",
    "                    ignore_index=True)\n",
    "\n",
    "    #transpose source dataframe\n",
    "    source_df_T=source_df.T.reset_index()\n",
    "\n",
    "    cols=['Year','Source']\n",
    "    #remove the 1st row\n",
    "    source_df_T=source_df_T.iloc[1:]\n",
    "    source_df_T.columns=cols\n",
    "\n",
    "    #merge the 2 dataframes\n",
    "    merged_data=pd.merge(df_main_long, source_df_T, on='Year')\n",
    "    merged_data.head(3)\n",
    "    #####################################################################################################\n",
    "    \n",
    "    #go through columns and print out the unique  values\n",
    "    for col in [c for c in merged_data.columns if c not in ['Source', 'Value']]:\n",
    "        print(f'for column {col}: {merged_data[col].unique()}')\n",
    "\n",
    "    print('--------------------------------------------------------------/n/n')\n",
    "\n",
    "\n",
    "    "
   ]
  },
  {
   "cell_type": "markdown",
   "id": "89b507d9",
   "metadata": {},
   "source": [
    "### for arabic questionnaire"
   ]
  },
  {
   "cell_type": "code",
   "execution_count": 4,
   "id": "8ace4427",
   "metadata": {},
   "outputs": [
    {
     "name": "stdout",
     "output_type": "stream",
     "text": [
      "dict_keys(['Education_1_a', 'Education_1_b', 'Education_2_a', 'Education_2_b', 'Education_2_c', 'Education_3', 'Education_4', 'Education_5', 'Education_6'])\n"
     ]
    }
   ],
   "source": [
    "f_path = 'C:/Users/511232/Desktop/DSS/Consolidated questionnaires'\n",
    "file='Somalia_Education_ar.xlsx'\n",
    "\n",
    "sheets_dict = pd.read_excel(f_path+'/'+file, sheet_name=None)  # Reads all sheets at once\n",
    "print(sheets_dict.keys())"
   ]
  },
  {
   "cell_type": "code",
   "execution_count": null,
   "id": "21261a61",
   "metadata": {},
   "outputs": [],
   "source": [
    "'''loop through the sheets, isolate the row where theres source, remove it from the dataframe, reshape the dataframe\n",
    "repeat the source row equivalent to the non-reshaped dataframe size, append to the df_list and finally concatenate into a single file'''\n",
    "\n",
    "df_list=[]\n",
    "\n",
    "for key, df in sheets_dict.items():\n",
    "    \n",
    "    print(f'processing sheet {key}')\n",
    "    #read in the dataframe\n",
    "    df=sheets_dict[key]\n",
    "\n",
    "    #clean it from the null rows\n",
    "    df1 = df.dropna(how='all')\n",
    "\n",
    "    #get the row and column index where source appear\n",
    "    source_row_index=df1[df1.isin(['المصدر','Source', 'source']).any(axis=1)].index[0]\n",
    "    #column where source appear\n",
    "    source_col=df.columns[df1.isin(['المصدر','Source', 'source']).any(axis=0)][0]\n",
    "    #get the index of source_col\n",
    "    source_col_index=df1.columns.get_loc(source_col)\n",
    "    print('Source row and column index are: {source_row_index},{source_col_index}')\n",
    "\n",
    "    #separating the dataframe between main dataframe and the source dataframe\n",
    "    main_df=df1.iloc[0:source_row_index-1].reset_index(drop=True)\n",
    "    source_df=df1.iloc[source_row_index-1 :,source_col_index :].reset_index(drop=True)\n",
    "\n",
    "\n",
    "    #action plan: melt main dataframe, transpose the source dataframe and then merge together\n",
    "    #get years columns\n",
    "    year_columns = [col for col in df.columns if str(col).isdigit()]\n",
    "    print(f'years columns are: {year_columns}')\n",
    "\n",
    "    id_variables= list(set(main_df.columns) - set(year_columns))\n",
    "\n",
    "    df_main_long = pd.melt(main_df, \n",
    "                    id_vars=id_variables,     # columns to keep\n",
    "                    value_vars=year_columns,  # columns to unpivot\n",
    "                    var_name='Year', \n",
    "                    value_name='Value',\n",
    "                    ignore_index=True)\n",
    "\n",
    "    #transpose source dataframe\n",
    "    source_df_T=source_df.T.reset_index()\n",
    "\n",
    "    cols=['Year','Source']\n",
    "    #remove the 1st row\n",
    "    source_df_T=source_df_T.iloc[1:]\n",
    "    source_df_T.columns=cols\n",
    "\n",
    "    #merge the 2 dataframes\n",
    "    merged_data=pd.merge(df_main_long, source_df_T, on='Year')\n",
    "    merged_data.head(3)\n",
    "    #####################################################################################################\n",
    "    \n",
    "    #go through columns and print out the unique  values\n",
    "    for col in [c for c in merged_data.columns if c not in ['Source', 'Value']]:\n",
    "        print(f'for column {col}: {merged_data[col].unique()}')\n",
    "\n",
    "    print('--------------------------------------------------------------/n/n')"
   ]
  },
  {
   "cell_type": "markdown",
   "id": "58f5463b",
   "metadata": {},
   "source": [
    "### create a dictionary for translation"
   ]
  },
  {
   "cell_type": "code",
   "execution_count": 6,
   "id": "c39ac684",
   "metadata": {},
   "outputs": [],
   "source": [
    "df_en=pd.read_excel('C:/Users/511232/Desktop/DSS/Consolidated questionnaires/codes/consolidated_data_en.xlsx')\n",
    "df_ar=pd.read_excel('C:/Users/511232/Desktop/DSS/Consolidated questionnaires/codes/consolidated_data_ar.xlsx')\n",
    "df_ar_translated=df_ar.copy()"
   ]
  },
  {
   "cell_type": "code",
   "execution_count": 7,
   "id": "3de63977",
   "metadata": {},
   "outputs": [
    {
     "data": {
      "text/html": [
       "<div>\n",
       "<style scoped>\n",
       "    .dataframe tbody tr th:only-of-type {\n",
       "        vertical-align: middle;\n",
       "    }\n",
       "\n",
       "    .dataframe tbody tr th {\n",
       "        vertical-align: top;\n",
       "    }\n",
       "\n",
       "    .dataframe thead th {\n",
       "        text-align: right;\n",
       "    }\n",
       "</style>\n",
       "<table border=\"1\" class=\"dataframe\">\n",
       "  <thead>\n",
       "    <tr style=\"text-align: right;\">\n",
       "      <th></th>\n",
       "      <th>col_en</th>\n",
       "      <th>val_en</th>\n",
       "      <th>col_ar</th>\n",
       "      <th>val_ar</th>\n",
       "    </tr>\n",
       "  </thead>\n",
       "  <tbody>\n",
       "    <tr>\n",
       "      <th>0</th>\n",
       "      <td>Indicator</td>\n",
       "      <td>Net enrolment rate in primary education (percent)</td>\n",
       "      <td>المؤشر</td>\n",
       "      <td>معدل الإلتحاق الصافي في مرحلة التعليم الإبتدائي (الأساسي) (نسبة مئوية)</td>\n",
       "    </tr>\n",
       "    <tr>\n",
       "      <th>1</th>\n",
       "      <td>Indicator</td>\n",
       "      <td>Net enrolment rate in secondary education (percent)</td>\n",
       "      <td>المؤشر</td>\n",
       "      <td>معدل الإلتحاق الصافي في مرحلة التعليم الثانوي (نسبة مئوية)</td>\n",
       "    </tr>\n",
       "  </tbody>\n",
       "</table>\n",
       "</div>"
      ],
      "text/plain": [
       "      col_en                                               val_en  col_ar                                                                  val_ar\n",
       "0  Indicator    Net enrolment rate in primary education (percent)  المؤشر  معدل الإلتحاق الصافي في مرحلة التعليم الإبتدائي (الأساسي) (نسبة مئوية)\n",
       "1  Indicator  Net enrolment rate in secondary education (percent)  المؤشر              معدل الإلتحاق الصافي في مرحلة التعليم الثانوي (نسبة مئوية)"
      ]
     },
     "execution_count": 7,
     "metadata": {},
     "output_type": "execute_result"
    }
   ],
   "source": [
    "translation_df=pd.read_excel('translation dict.xlsx')\n",
    "translation_df.head(2)"
   ]
  },
  {
   "cell_type": "code",
   "execution_count": 15,
   "id": "62f0a740",
   "metadata": {},
   "outputs": [],
   "source": [
    "#create dictionaries for columns names\n",
    "col_dict_en_ar=dict(zip(translation_df['col_en'].unique(),translation_df['col_ar'].unique()))\n",
    "col_dict_ar_en={v:k for k,v in col_dict_en_ar.items()}"
   ]
  },
  {
   "cell_type": "code",
   "execution_count": null,
   "id": "a0d92554",
   "metadata": {},
   "outputs": [],
   "source": [
    "#create dictionaries for english to arabic and arabic to english lables for columns\n",
    "labels_dict_en_ar=translation_df.groupby(['col_en']).apply(lambda x: dict(zip(x['val_en'],x['val_ar']))).to_dict()\n",
    "labels_dict_ar_en=translation_df.groupby(['col_ar']).apply(lambda x: dict(zip(x['val_ar'],x['val_en']))).to_dict()"
   ]
  },
  {
   "cell_type": "markdown",
   "id": "f28afa56",
   "metadata": {},
   "source": [
    "### translate arabic to english"
   ]
  },
  {
   "cell_type": "code",
   "execution_count": 17,
   "id": "e60f60ed",
   "metadata": {},
   "outputs": [
    {
     "data": {
      "text/html": [
       "<div>\n",
       "<style scoped>\n",
       "    .dataframe tbody tr th:only-of-type {\n",
       "        vertical-align: middle;\n",
       "    }\n",
       "\n",
       "    .dataframe tbody tr th {\n",
       "        vertical-align: top;\n",
       "    }\n",
       "\n",
       "    .dataframe thead th {\n",
       "        text-align: right;\n",
       "    }\n",
       "</style>\n",
       "<table border=\"1\" class=\"dataframe\">\n",
       "  <thead>\n",
       "    <tr style=\"text-align: right;\">\n",
       "      <th></th>\n",
       "      <th>المؤشر</th>\n",
       "      <th>الدولة</th>\n",
       "      <th>المواطنة</th>\n",
       "      <th>الجنس</th>\n",
       "      <th>Year</th>\n",
       "      <th>Value</th>\n",
       "      <th>Source</th>\n",
       "      <th>القطاع</th>\n",
       "      <th>المرحلة التعليمية</th>\n",
       "    </tr>\n",
       "  </thead>\n",
       "  <tbody>\n",
       "    <tr>\n",
       "      <th>0</th>\n",
       "      <td>معدل الإلتحاق الصافي في مرحلة التعليم الإبتدائي (الأساسي) (نسبة مئوية)</td>\n",
       "      <td>الصومال</td>\n",
       "      <td>مجموع المواطنين وغير المواطنين</td>\n",
       "      <td>ذكور</td>\n",
       "      <td>2010</td>\n",
       "      <td>1.0</td>\n",
       "      <td>a</td>\n",
       "      <td>NaN</td>\n",
       "      <td>NaN</td>\n",
       "    </tr>\n",
       "    <tr>\n",
       "      <th>1</th>\n",
       "      <td>معدل الإلتحاق الصافي في مرحلة التعليم الإبتدائي (الأساسي) (نسبة مئوية)</td>\n",
       "      <td>الصومال</td>\n",
       "      <td>مجموع المواطنين وغير المواطنين</td>\n",
       "      <td>إناث</td>\n",
       "      <td>2010</td>\n",
       "      <td>1.0</td>\n",
       "      <td>a</td>\n",
       "      <td>NaN</td>\n",
       "      <td>NaN</td>\n",
       "    </tr>\n",
       "  </tbody>\n",
       "</table>\n",
       "</div>"
      ],
      "text/plain": [
       "                                                                   المؤشر   الدولة                        المواطنة  الجنس  Year  Value Source القطاع المرحلة التعليمية\n",
       "0  معدل الإلتحاق الصافي في مرحلة التعليم الإبتدائي (الأساسي) (نسبة مئوية)  الصومال  مجموع المواطنين وغير المواطنين   ذكور  2010    1.0      a    NaN               NaN\n",
       "1  معدل الإلتحاق الصافي في مرحلة التعليم الإبتدائي (الأساسي) (نسبة مئوية)  الصومال  مجموع المواطنين وغير المواطنين   إناث  2010    1.0      a    NaN               NaN"
      ]
     },
     "execution_count": 17,
     "metadata": {},
     "output_type": "execute_result"
    }
   ],
   "source": [
    "df_ar.head(2)"
   ]
  },
  {
   "cell_type": "code",
   "execution_count": 19,
   "id": "315617b5",
   "metadata": {},
   "outputs": [
    {
     "name": "stdout",
     "output_type": "stream",
     "text": [
      "column السنة not in the dataframe columns \n",
      "column العدد not in the dataframe columns \n",
      "column المصدر not in the dataframe columns \n"
     ]
    }
   ],
   "source": [
    "df_ar_translated=df_ar.copy()\n",
    "\n",
    "#translate the values from arabic to english\n",
    "for col in labels_dict_ar_en.keys():\n",
    "        try:\n",
    "                df_ar_translated[col] = df_ar_translated[col].map(labels_dict_ar_en[col])\n",
    "        except:\n",
    "                print(f'column {col} not in the dataframe columns ')\n",
    "\n",
    "#rename columns to english\n",
    "df_ar_translated = df_ar_translated.rename(columns=col_dict_ar_en)"
   ]
  },
  {
   "cell_type": "code",
   "execution_count": 20,
   "id": "034752f6",
   "metadata": {},
   "outputs": [
    {
     "data": {
      "text/html": [
       "<div>\n",
       "<style scoped>\n",
       "    .dataframe tbody tr th:only-of-type {\n",
       "        vertical-align: middle;\n",
       "    }\n",
       "\n",
       "    .dataframe tbody tr th {\n",
       "        vertical-align: top;\n",
       "    }\n",
       "\n",
       "    .dataframe thead th {\n",
       "        text-align: right;\n",
       "    }\n",
       "</style>\n",
       "<table border=\"1\" class=\"dataframe\">\n",
       "  <thead>\n",
       "    <tr style=\"text-align: right;\">\n",
       "      <th></th>\n",
       "      <th>Indicator</th>\n",
       "      <th>Country</th>\n",
       "      <th>Nationality</th>\n",
       "      <th>Sex</th>\n",
       "      <th>Year</th>\n",
       "      <th>Value</th>\n",
       "      <th>Source</th>\n",
       "      <th>Sector</th>\n",
       "      <th>Education level</th>\n",
       "    </tr>\n",
       "  </thead>\n",
       "  <tbody>\n",
       "    <tr>\n",
       "      <th>0</th>\n",
       "      <td>Net enrolment rate in primary education (percent)</td>\n",
       "      <td>Somalia</td>\n",
       "      <td>Nationality Total</td>\n",
       "      <td>Male</td>\n",
       "      <td>2010</td>\n",
       "      <td>1.0</td>\n",
       "      <td>a</td>\n",
       "      <td>NaN</td>\n",
       "      <td>NaN</td>\n",
       "    </tr>\n",
       "    <tr>\n",
       "      <th>1</th>\n",
       "      <td>Net enrolment rate in primary education (percent)</td>\n",
       "      <td>Somalia</td>\n",
       "      <td>Nationality Total</td>\n",
       "      <td>NaN</td>\n",
       "      <td>2010</td>\n",
       "      <td>1.0</td>\n",
       "      <td>a</td>\n",
       "      <td>NaN</td>\n",
       "      <td>NaN</td>\n",
       "    </tr>\n",
       "  </tbody>\n",
       "</table>\n",
       "</div>"
      ],
      "text/plain": [
       "                                           Indicator  Country        Nationality   Sex  Year  Value Source Sector Education level\n",
       "0  Net enrolment rate in primary education (percent)  Somalia  Nationality Total  Male  2010    1.0      a    NaN             NaN\n",
       "1  Net enrolment rate in primary education (percent)  Somalia  Nationality Total   NaN  2010    1.0      a    NaN             NaN"
      ]
     },
     "execution_count": 20,
     "metadata": {},
     "output_type": "execute_result"
    }
   ],
   "source": [
    "df_ar_translated.head(2)"
   ]
  },
  {
   "cell_type": "code",
   "execution_count": 27,
   "id": "61d412a9",
   "metadata": {},
   "outputs": [
    {
     "name": "stdout",
     "output_type": "stream",
     "text": [
      "['Somalia'] \n",
      "\n",
      "[nan 'Primary' 'Preparatory' 'Secondary' 'Tertiary' 'All levels'] \n",
      "\n",
      "['Net enrolment rate in primary education (percent)'\n",
      " 'Net enrolment rate in secondary education (percent)'\n",
      " 'Pupil-teacher ratio (percent)' 'Adult literacy rates'\n",
      " 'Youth literacy rates'\n",
      " 'Expenditure on education as a percentage of total government expenditure  (percent)'\n",
      " 'Government expenditure on education as a percentage of GDP (percent)'] \n",
      "\n",
      "['Nationality Total' 'Nationals' 'Non-nationals' nan] \n",
      "\n",
      "[nan 'Public' 'Private' 'Sector Total'] \n",
      "\n",
      "['Male' nan 'Both sexes'] \n",
      "\n"
     ]
    }
   ],
   "source": [
    "for col in df_ar_translated.columns.difference(['Year', 'Value', 'Source']):\n",
    "    print(df_ar_translated[col].unique(),'\\n')"
   ]
  },
  {
   "cell_type": "markdown",
   "id": "c7006b22",
   "metadata": {},
   "source": [
    "#### check schema with pandera and rapidfuzz to match with possible different column names"
   ]
  },
  {
   "cell_type": "code",
   "execution_count": 10,
   "id": "bd3b9413",
   "metadata": {},
   "outputs": [],
   "source": [
    "import pandas as pd\n",
    "from rapidfuzz import process\n",
    "import pandera as pa\n",
    "from pandera import Column, DataFrameSchema, Check\n",
    "from pandera.errors import SchemaError\n",
    "from textwrap import fill"
   ]
  },
  {
   "cell_type": "code",
   "execution_count": 92,
   "id": "3643a161",
   "metadata": {},
   "outputs": [],
   "source": [
    "STANDARD_SCHEMA = {\n",
    "'Indicator': ['indicator','Ind','مؤشر','المؤشر'],\n",
    "'Country': ['الدولة','البلد','country'],\n",
    "'Nationality': ['المواطنة','المواطنية','nationality','nationalities'],\n",
    "'Sex': ['sex','gender','الجنس'],\n",
    "'Year': ['year','time','Time','سنة','السنة'],\n",
    "'Value': ['value','number','Number','الرقم','عدد', 'العدد'],\n",
    "'Comments': ['comments','notes','ملاحظة','المصدر','Source'],\n",
    "'Sector': ['sector','القطاع'],\n",
    "'Education level': ['edu level','Education_level','المرحلة التعليمية','التعليم']\n",
    "}\n"
   ]
  },
  {
   "cell_type": "code",
   "execution_count": 93,
   "id": "ae3f7714",
   "metadata": {},
   "outputs": [
    {
     "name": "stdout",
     "output_type": "stream",
     "text": [
      "Indicator has a score of 100.0 for column Indicator\n",
      "Country has a score of 100.0 for column Country\n",
      "Nationality has a score of 100.0 for column Nationality\n",
      "Sex has a score of 100.0 for column Sex\n",
      "Year has a score of 100.0 for column Year\n",
      "Value has a score of 100.0 for column Value\n",
      "comments has a score of 87.5 for column Comments\n",
      "Sector has a score of 100.0 for column Sector\n",
      "Education level has a score of 100.0 for column Education level\n"
     ]
    },
    {
     "data": {
      "text/plain": [
       "Index(['Indicator', 'Country', 'Nationality', 'Sex', 'Year', 'Value', 'Source', 'Sector', 'Education level'], dtype='object')"
      ]
     },
     "execution_count": 93,
     "metadata": {},
     "output_type": "execute_result"
    }
   ],
   "source": [
    "#map columns to col names using fuzzy match\n",
    "col_names = {}\n",
    "for col, aliases in STANDARD_SCHEMA.items():\n",
    "\n",
    "    match, score, _ = process.extractOne(col, df_ar_translated.columns.tolist() + aliases)\n",
    "    \n",
    "    if score > 80:\n",
    "        print(f'{match} has a score of {score} for column {col}')\n",
    "        col_names[match] = col\n",
    "\n",
    "#rename column names according to schema\n",
    "df_ar_translated=df_ar_translated.rename(col_names)\n",
    "\n",
    "df_ar_translated.columns"
   ]
  },
  {
   "cell_type": "markdown",
   "id": "879f72a5",
   "metadata": {},
   "source": [
    "#### validate the dataframe column labels"
   ]
  },
  {
   "cell_type": "code",
   "execution_count": 94,
   "id": "4c654c32",
   "metadata": {},
   "outputs": [
    {
     "data": {
      "text/plain": [
       "Indicator           object\n",
       "Country             object\n",
       "Nationality         object\n",
       "Sex                 object\n",
       "Year                 int64\n",
       "Value              float64\n",
       "Source              object\n",
       "Sector              object\n",
       "Education level     object\n",
       "dtype: object"
      ]
     },
     "execution_count": 94,
     "metadata": {},
     "output_type": "execute_result"
    }
   ],
   "source": [
    "df_ar_translated.dtypes"
   ]
  },
  {
   "cell_type": "code",
   "execution_count": 28,
   "id": "5df1611c",
   "metadata": {},
   "outputs": [
    {
     "data": {
      "text/html": [
       "<div>\n",
       "<style scoped>\n",
       "    .dataframe tbody tr th:only-of-type {\n",
       "        vertical-align: middle;\n",
       "    }\n",
       "\n",
       "    .dataframe tbody tr th {\n",
       "        vertical-align: top;\n",
       "    }\n",
       "\n",
       "    .dataframe thead th {\n",
       "        text-align: right;\n",
       "    }\n",
       "</style>\n",
       "<table border=\"1\" class=\"dataframe\">\n",
       "  <thead>\n",
       "    <tr style=\"text-align: right;\">\n",
       "      <th></th>\n",
       "      <th>col_en</th>\n",
       "      <th>val_en</th>\n",
       "      <th>col_ar</th>\n",
       "      <th>val_ar</th>\n",
       "    </tr>\n",
       "  </thead>\n",
       "  <tbody>\n",
       "    <tr>\n",
       "      <th>0</th>\n",
       "      <td>Indicator</td>\n",
       "      <td>Net enrolment rate in primary education (percent)</td>\n",
       "      <td>المؤشر</td>\n",
       "      <td>معدل الإلتحاق الصافي في مرحلة التعليم الإبتدائي (الأساسي) (نسبة مئوية)</td>\n",
       "    </tr>\n",
       "    <tr>\n",
       "      <th>1</th>\n",
       "      <td>Indicator</td>\n",
       "      <td>Net enrolment rate in secondary education (percent)</td>\n",
       "      <td>المؤشر</td>\n",
       "      <td>معدل الإلتحاق الصافي في مرحلة التعليم الثانوي (نسبة مئوية)</td>\n",
       "    </tr>\n",
       "  </tbody>\n",
       "</table>\n",
       "</div>"
      ],
      "text/plain": [
       "      col_en                                               val_en  col_ar                                                                  val_ar\n",
       "0  Indicator    Net enrolment rate in primary education (percent)  المؤشر  معدل الإلتحاق الصافي في مرحلة التعليم الإبتدائي (الأساسي) (نسبة مئوية)\n",
       "1  Indicator  Net enrolment rate in secondary education (percent)  المؤشر              معدل الإلتحاق الصافي في مرحلة التعليم الثانوي (نسبة مئوية)"
      ]
     },
     "execution_count": 28,
     "metadata": {},
     "output_type": "execute_result"
    }
   ],
   "source": [
    "translation_df=pd.read_excel('translation dict.xlsx')\n",
    "translation_df.head(2)"
   ]
  },
  {
   "cell_type": "code",
   "execution_count": 38,
   "id": "534cd699",
   "metadata": {},
   "outputs": [
    {
     "data": {
      "text/plain": [
       "['Primary', 'Preparatory', 'Secondary', 'Tertiary', 'All levels']"
      ]
     },
     "execution_count": 38,
     "metadata": {},
     "output_type": "execute_result"
    }
   ],
   "source": [
    "list(translation_df.loc[translation_df['col_en']=='Education level', 'val_en'].unique())"
   ]
  },
  {
   "cell_type": "code",
   "execution_count": 43,
   "id": "27aa990b",
   "metadata": {},
   "outputs": [
    {
     "name": "stdout",
     "output_type": "stream",
     "text": [
      "(\"Column 'Indicator' failed element-wise validator number 0: isin(['Net enrolment rate in primary education (percent)', 'Net enrolment rate in\n",
      "secondary education (percent)', 'Pupil-teacher ratio (percent)', 'Adult literacy rates', 'Youth literacy rates', 'Expenditure on education as a\n",
      "percentage of total government expenditure  (percent)', 'Government expenditure on education as a percentage of GDP (percent)']) failure cases: wrong\n",
      "ind\",)\n"
     ]
    }
   ],
   "source": [
    "allowed_indicator_values=list(translation_df.loc[translation_df['col_en']=='Indicator', 'val_en'].unique())\n",
    "allowed_country_values=list(translation_df.loc[translation_df['col_en']=='Country', 'val_en'].unique())\n",
    "allowed_nationality_values=list(translation_df.loc[translation_df['col_en']=='Nationality', 'val_en'].unique())\n",
    "allowed_sex_values=list(translation_df.loc[translation_df['col_en']=='Sex', 'val_en'].unique())\n",
    "allowed_year_values=[2010,2011,2012,2013,2014,2015,2016,2017,2018,2019,2020,2021,2022,2023,2024]\n",
    "allowed_sector_values=list(translation_df.loc[translation_df['col_en']=='Sector', 'val_en'].unique())\n",
    "allowed_edulevel_values=list(translation_df.loc[translation_df['col_en']=='Education level', 'val_en'].unique())\n",
    "\n",
    "#define schema\n",
    "schema = DataFrameSchema({\n",
    "    'Indicator': Column(str, checks=Check.isin(allowed_indicator_values)),\n",
    "    'Country': Column(str, checks=Check.isin(allowed_country_values)),\n",
    "    'Nationality': Column(str, checks=Check.isin(allowed_nationality_values),nullable=True),\n",
    "    'Sex': Column(str, checks=Check.isin(allowed_sex_values),nullable=True),\n",
    "    'Year': Column(int, checks=Check.isin(allowed_year_values)),\n",
    "    'Sector': Column(str, checks=Check.isin(allowed_sector_values),nullable=True),\n",
    "    'Education level': Column(str, checks=Check.isin(allowed_edulevel_values),nullable=True)     \n",
    "})\n",
    "\n",
    "#validate the dataframe\n",
    "try:\n",
    "    validated_df = schema.validate(df_ar_translated)\n",
    "except SchemaError as err:\n",
    "    wrapped_error = fill(str(err.args), width=150)\n",
    "    print(wrapped_error)"
   ]
  },
  {
   "cell_type": "code",
   "execution_count": 42,
   "id": "fc084baf",
   "metadata": {},
   "outputs": [
    {
     "data": {
      "text/html": [
       "<div>\n",
       "<style scoped>\n",
       "    .dataframe tbody tr th:only-of-type {\n",
       "        vertical-align: middle;\n",
       "    }\n",
       "\n",
       "    .dataframe tbody tr th {\n",
       "        vertical-align: top;\n",
       "    }\n",
       "\n",
       "    .dataframe thead th {\n",
       "        text-align: right;\n",
       "    }\n",
       "</style>\n",
       "<table border=\"1\" class=\"dataframe\">\n",
       "  <thead>\n",
       "    <tr style=\"text-align: right;\">\n",
       "      <th></th>\n",
       "      <th>Indicator</th>\n",
       "      <th>Country</th>\n",
       "      <th>Nationality</th>\n",
       "      <th>Sex</th>\n",
       "      <th>Year</th>\n",
       "      <th>Value</th>\n",
       "      <th>Source</th>\n",
       "      <th>Sector</th>\n",
       "      <th>Education level</th>\n",
       "    </tr>\n",
       "  </thead>\n",
       "  <tbody>\n",
       "    <tr>\n",
       "      <th>0</th>\n",
       "      <td>wrong ind</td>\n",
       "      <td>Somalia</td>\n",
       "      <td>Nationality Total</td>\n",
       "      <td>Male</td>\n",
       "      <td>2010</td>\n",
       "      <td>1.0</td>\n",
       "      <td>a</td>\n",
       "      <td>NaN</td>\n",
       "      <td>NaN</td>\n",
       "    </tr>\n",
       "    <tr>\n",
       "      <th>1</th>\n",
       "      <td>Net enrolment rate in primary education (percent)</td>\n",
       "      <td>Somalia</td>\n",
       "      <td>Nationality Total</td>\n",
       "      <td>NaN</td>\n",
       "      <td>2010</td>\n",
       "      <td>1.0</td>\n",
       "      <td>a</td>\n",
       "      <td>NaN</td>\n",
       "      <td>NaN</td>\n",
       "    </tr>\n",
       "    <tr>\n",
       "      <th>2</th>\n",
       "      <td>Net enrolment rate in primary education (percent)</td>\n",
       "      <td>Somalia</td>\n",
       "      <td>Nationality Total</td>\n",
       "      <td>Both sexes</td>\n",
       "      <td>2010</td>\n",
       "      <td>1.0</td>\n",
       "      <td>a</td>\n",
       "      <td>NaN</td>\n",
       "      <td>NaN</td>\n",
       "    </tr>\n",
       "    <tr>\n",
       "      <th>3</th>\n",
       "      <td>Net enrolment rate in primary education (percent)</td>\n",
       "      <td>Somalia</td>\n",
       "      <td>Nationals</td>\n",
       "      <td>Male</td>\n",
       "      <td>2010</td>\n",
       "      <td>1.0</td>\n",
       "      <td>a</td>\n",
       "      <td>NaN</td>\n",
       "      <td>NaN</td>\n",
       "    </tr>\n",
       "    <tr>\n",
       "      <th>4</th>\n",
       "      <td>Net enrolment rate in primary education (percent)</td>\n",
       "      <td>Somalia</td>\n",
       "      <td>Nationals</td>\n",
       "      <td>NaN</td>\n",
       "      <td>2010</td>\n",
       "      <td>1.0</td>\n",
       "      <td>a</td>\n",
       "      <td>NaN</td>\n",
       "      <td>NaN</td>\n",
       "    </tr>\n",
       "  </tbody>\n",
       "</table>\n",
       "</div>"
      ],
      "text/plain": [
       "                                           Indicator  Country        Nationality         Sex  Year  Value Source Sector Education level\n",
       "0                                          wrong ind  Somalia  Nationality Total        Male  2010    1.0      a    NaN             NaN\n",
       "1  Net enrolment rate in primary education (percent)  Somalia  Nationality Total         NaN  2010    1.0      a    NaN             NaN\n",
       "2  Net enrolment rate in primary education (percent)  Somalia  Nationality Total  Both sexes  2010    1.0      a    NaN             NaN\n",
       "3  Net enrolment rate in primary education (percent)  Somalia          Nationals        Male  2010    1.0      a    NaN             NaN\n",
       "4  Net enrolment rate in primary education (percent)  Somalia          Nationals         NaN  2010    1.0      a    NaN             NaN"
      ]
     },
     "execution_count": 42,
     "metadata": {},
     "output_type": "execute_result"
    }
   ],
   "source": [
    "df_ar_translated.loc[0,'Indicator']='wrong ind'\n",
    "df_ar_translated.head()"
   ]
  },
  {
   "cell_type": "code",
   "execution_count": null,
   "id": "4d839ea2",
   "metadata": {},
   "outputs": [],
   "source": []
  }
 ],
 "metadata": {
  "kernelspec": {
   "display_name": "venv",
   "language": "python",
   "name": "python3"
  },
  "language_info": {
   "codemirror_mode": {
    "name": "ipython",
    "version": 3
   },
   "file_extension": ".py",
   "mimetype": "text/x-python",
   "name": "python",
   "nbconvert_exporter": "python",
   "pygments_lexer": "ipython3",
   "version": "3.13.3"
  }
 },
 "nbformat": 4,
 "nbformat_minor": 5
}
